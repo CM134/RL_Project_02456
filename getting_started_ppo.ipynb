{
  "nbformat": 4,
  "nbformat_minor": 0,
  "metadata": {
    "accelerator": "GPU",
    "colab": {
      "name": "getting_started_ppo.ipynb",
      "provenance": [],
      "collapsed_sections": []
    },
    "kernelspec": {
      "display_name": "Python 3",
      "language": "python",
      "name": "python3"
    },
    "language_info": {
      "codemirror_mode": {
        "name": "ipython",
        "version": 3
      },
      "file_extension": ".py",
      "mimetype": "text/x-python",
      "name": "python",
      "nbconvert_exporter": "python",
      "pygments_lexer": "ipython3",
      "version": "3.8.12"
    }
  },
  "cells": [
    {
      "cell_type": "markdown",
      "metadata": {
        "id": "K1_WKdcrI6w3"
      },
      "source": [
        "# Getting started with PPO and ProcGen"
      ]
    },
    {
      "cell_type": "markdown",
      "metadata": {
        "id": "z7LP1JU3I-d4"
      },
      "source": [
        "Here's a bit of code that should help you get started on your projects.\n",
        "\n",
        "The cell below installs `procgen` and downloads a small `utils.py` script that contains some utility functions. You may want to inspect the file for more details."
      ]
    },
    {
      "cell_type": "code",
      "metadata": {
        "colab": {
          "base_uri": "https://localhost:8080/"
        },
        "id": "KdpZ4lmFHtD8",
        "outputId": "bc1955f6-1e98-418c-9fb2-1ab1a732cf65"
      },
      "source": [
        "!pip install procgen\n",
        "!wget https://raw.githubusercontent.com/nicklashansen/ppo-procgen-utils/main/utils.py"
      ],
      "execution_count": null,
      "outputs": [
        {
          "output_type": "stream",
          "name": "stdout",
          "text": [
            "Requirement already satisfied: procgen in /usr/local/lib/python3.7/dist-packages (0.10.4)\n",
            "Requirement already satisfied: gym<1.0.0,>=0.15.0 in /usr/local/lib/python3.7/dist-packages (from procgen) (0.17.3)\n",
            "Requirement already satisfied: numpy<2.0.0,>=1.17.0 in /usr/local/lib/python3.7/dist-packages (from procgen) (1.19.5)\n",
            "Requirement already satisfied: gym3<1.0.0,>=0.3.3 in /usr/local/lib/python3.7/dist-packages (from procgen) (0.3.3)\n",
            "Requirement already satisfied: filelock<4.0.0,>=3.0.0 in /usr/local/lib/python3.7/dist-packages (from procgen) (3.3.2)\n",
            "Requirement already satisfied: pyglet<=1.5.0,>=1.4.0 in /usr/local/lib/python3.7/dist-packages (from gym<1.0.0,>=0.15.0->procgen) (1.5.0)\n",
            "Requirement already satisfied: scipy in /usr/local/lib/python3.7/dist-packages (from gym<1.0.0,>=0.15.0->procgen) (1.4.1)\n",
            "Requirement already satisfied: cloudpickle<1.7.0,>=1.2.0 in /usr/local/lib/python3.7/dist-packages (from gym<1.0.0,>=0.15.0->procgen) (1.3.0)\n",
            "Requirement already satisfied: glfw<2.0.0,>=1.8.6 in /usr/local/lib/python3.7/dist-packages (from gym3<1.0.0,>=0.3.3->procgen) (1.12.0)\n",
            "Requirement already satisfied: imageio<3.0.0,>=2.6.0 in /usr/local/lib/python3.7/dist-packages (from gym3<1.0.0,>=0.3.3->procgen) (2.10.3)\n",
            "Requirement already satisfied: moderngl<6.0.0,>=5.5.4 in /usr/local/lib/python3.7/dist-packages (from gym3<1.0.0,>=0.3.3->procgen) (5.6.4)\n",
            "Requirement already satisfied: imageio-ffmpeg<0.4.0,>=0.3.0 in /usr/local/lib/python3.7/dist-packages (from gym3<1.0.0,>=0.3.3->procgen) (0.3.0)\n",
            "Requirement already satisfied: cffi<2.0.0,>=1.13.0 in /usr/local/lib/python3.7/dist-packages (from gym3<1.0.0,>=0.3.3->procgen) (1.15.0)\n",
            "Requirement already satisfied: pycparser in /usr/local/lib/python3.7/dist-packages (from cffi<2.0.0,>=1.13.0->gym3<1.0.0,>=0.3.3->procgen) (2.21)\n",
            "Requirement already satisfied: pillow>=8.3.2 in /usr/local/lib/python3.7/dist-packages (from imageio<3.0.0,>=2.6.0->gym3<1.0.0,>=0.3.3->procgen) (8.4.0)\n",
            "Requirement already satisfied: glcontext<3,>=2 in /usr/local/lib/python3.7/dist-packages (from moderngl<6.0.0,>=5.5.4->gym3<1.0.0,>=0.3.3->procgen) (2.3.4)\n",
            "Requirement already satisfied: future in /usr/local/lib/python3.7/dist-packages (from pyglet<=1.5.0,>=1.4.0->gym<1.0.0,>=0.15.0->procgen) (0.16.0)\n",
            "--2021-11-12 14:29:24--  https://raw.githubusercontent.com/nicklashansen/ppo-procgen-utils/main/utils.py\n",
            "Resolving raw.githubusercontent.com (raw.githubusercontent.com)... 185.199.111.133, 185.199.110.133, 185.199.108.133, ...\n",
            "Connecting to raw.githubusercontent.com (raw.githubusercontent.com)|185.199.111.133|:443... connected.\n",
            "HTTP request sent, awaiting response... 200 OK\n",
            "Length: 14807 (14K) [text/plain]\n",
            "Saving to: ‘utils.py.4’\n",
            "\n",
            "utils.py.4          100%[===================>]  14.46K  --.-KB/s    in 0s      \n",
            "\n",
            "2021-11-12 14:29:24 (50.2 MB/s) - ‘utils.py.4’ saved [14807/14807]\n",
            "\n"
          ]
        }
      ]
    },
    {
      "cell_type": "markdown",
      "metadata": {
        "id": "Bn2rkllGJPtZ"
      },
      "source": [
        "Hyperparameters. These values should be a good starting point. You can modify them later once you have a working implementation."
      ]
    },
    {
      "cell_type": "code",
      "metadata": {
        "id": "8Z8P1ehENCwc"
      },
      "source": [
        "# Hyperparameters\n",
        "total_steps = 500000\n",
        "num_envs = 32\n",
        "num_levels = 10\n",
        "num_steps = 256\n",
        "num_epochs = 3\n",
        "batch_size = 512\n",
        "eps = .2\n",
        "grad_eps = .5\n",
        "value_coef = .5\n",
        "entropy_coef = .01"
      ],
      "execution_count": null,
      "outputs": []
    },
    {
      "cell_type": "code",
      "metadata": {
        "id": "oFp3f98xyRxq"
      },
      "source": [
        "feature_dim = 64\n",
        "envname = 'starpilot'"
      ],
      "execution_count": null,
      "outputs": []
    },
    {
      "cell_type": "markdown",
      "metadata": {
        "id": "JxRWy_T9JY4M"
      },
      "source": [
        "Network definitions. We have defined a policy network for you in advance. It uses the popular `NatureDQN` encoder architecture (see below), while policy and value functions are linear projections from the encodings. There is plenty of opportunity to experiment with architectures, so feel free to do that! Perhaps implement the `Impala` encoder from [this paper](https://arxiv.org/pdf/1802.01561.pdf) (perhaps minus the LSTM)."
      ]
    },
    {
      "cell_type": "code",
      "metadata": {
        "id": "yTBV9xpKpEFa"
      },
      "source": [
        "import torch\n",
        "import torch.nn as nn\n",
        "import torch.nn.functional as F\n",
        "from utils import make_env, Storage, orthogonal_init\n",
        "\n",
        "\n",
        "class Flatten(nn.Module):\n",
        "    def forward(self, x):\n",
        "        return x.view(x.size(0), -1)\n",
        "\n",
        "\n",
        "class Encoder(nn.Module):\n",
        "  def __init__(self, in_channels, feature_dim):\n",
        "    super().__init__()\n",
        "    self.layers = nn.Sequential(\n",
        "        nn.Conv2d(in_channels=in_channels, out_channels=32, kernel_size=8, stride=4), nn.ReLU(),\n",
        "        nn.Conv2d(in_channels=32, out_channels=64, kernel_size=4, stride=2), nn.ReLU(),\n",
        "        nn.Conv2d(in_channels=64, out_channels=64, kernel_size=3, stride=1), nn.ReLU(),\n",
        "        Flatten(),\n",
        "        nn.Linear(in_features=1024, out_features=feature_dim), nn.ReLU()\n",
        "    )\n",
        "    self.apply(orthogonal_init)\n",
        "\n",
        "  def forward(self, x):\n",
        "    return self.layers(x)\n",
        "\n",
        "\n",
        "class Policy(nn.Module):\n",
        "  def __init__(self, encoder, feature_dim, num_actions):\n",
        "    super().__init__()\n",
        "    self.encoder = encoder\n",
        "    self.policy = orthogonal_init(nn.Linear(feature_dim, num_actions), gain=.01)\n",
        "    self.value = orthogonal_init(nn.Linear(feature_dim, 1), gain=1.)\n",
        "\n",
        "  def act(self, x):\n",
        "    with torch.no_grad():\n",
        "      x = x.cuda().contiguous()\n",
        "      x = x.contiguous()\n",
        "      dist, value = self.forward(x)\n",
        "      action = dist.sample()\n",
        "      log_prob = dist.log_prob(action)\n",
        "    \n",
        "    return action.cpu(), log_prob.cpu(), value.cpu()\n",
        "\n",
        "  def forward(self, x):\n",
        "    x = self.encoder(x)\n",
        "    logits = self.policy(x)\n",
        "    value = self.value(x).squeeze(1)\n",
        "    dist = torch.distributions.Categorical(logits=logits)\n",
        "\n",
        "    return dist, value"
      ],
      "execution_count": null,
      "outputs": []
    },
    {
      "cell_type": "code",
      "metadata": {
        "colab": {
          "base_uri": "https://localhost:8080/"
        },
        "id": "gsU-XW9aZ_EP",
        "outputId": "db2a81fe-32c4-4f41-f9ff-da3986e0aaba"
      },
      "source": [
        "module = nn.Sequential(nn.Linear(3,5), nn.ReLU())\n",
        "if isinstance(module, nn.Linear) or isinstance(module, nn.Conv2d):\n",
        "  nn.init.orthogonal_(module.weight.data, gain)\n",
        "  nn.init.constant_(module.bias.data, 0)\n",
        "  print('true')\n",
        "elif isinstance(module, nn.Sequential):\n",
        "  print('seq')\n",
        "\n",
        "else:\n",
        "  print('no init')"
      ],
      "execution_count": null,
      "outputs": [
        {
          "output_type": "stream",
          "name": "stdout",
          "text": [
            "seq\n"
          ]
        }
      ]
    },
    {
      "cell_type": "code",
      "metadata": {
        "colab": {
          "base_uri": "https://localhost:8080/"
        },
        "id": "Y-GCXwFfyRxs",
        "outputId": "621800f9-580b-4be7-d0f2-353cb0fb1a66"
      },
      "source": [
        "# Define environment\n",
        "# check the utils.py file for info on arguments\n",
        "env = make_env(num_envs, num_levels=num_levels, env_name = envname)\n",
        "print('Observation space:', env.observation_space)\n",
        "print('Action space:', env.action_space.n)\n",
        "\n",
        "\n",
        "encoder_in = env.observation_space.shape[0]\n",
        "num_actions = env.action_space.n\n",
        "\n",
        "\n",
        "# Define network\n",
        "encoder = Encoder(encoder_in,feature_dim)\n",
        "policy = Policy(encoder,feature_dim,num_actions)\n",
        "policy.cuda()\n",
        "\n",
        "# Define optimizer\n",
        "# these are reasonable values but probably not optimal\n",
        "optimizer = torch.optim.Adam(policy.parameters(), lr=5e-4, eps=1e-5)\n",
        "\n",
        "# Define temporary storage\n",
        "# we use this to collect transitions during each iteration\n",
        "storage = Storage(\n",
        "    env.observation_space.shape,\n",
        "    num_steps,\n",
        "    num_envs\n",
        ")\n",
        "\n",
        "# Run training\n",
        "obs = env.reset()\n",
        "step = 0\n",
        "while step < total_steps:\n",
        "\n",
        "  # Use policy to collect data for num_steps steps\n",
        "  policy.eval()\n",
        "  for _ in range(num_steps):\n",
        "    \n",
        "\n",
        "    # Use policy\n",
        "    action, log_prob, value = policy.act(obs)\n",
        "    \n",
        "    # Take step in environment\n",
        "    next_obs, reward, done, info = env.step(action)\n",
        "\n",
        "    # Store data\n",
        "    storage.store(obs, action, reward, done, info, log_prob, value)\n",
        "    \n",
        "    # Update current observation\n",
        "    obs = next_obs\n",
        "\n",
        "  # Add the last observation to collected data\n",
        "  _, _, value = policy.act(obs)\n",
        "  storage.store_last(obs, value)\n",
        "\n",
        "  # Compute return and advantage\n",
        "  storage.compute_return_advantage()\n",
        "\n",
        "  # Optimize policy\n",
        "  policy.train()\n",
        "  for epoch in range(num_epochs):\n",
        "\n",
        "    # Iterate over batches of transitions\n",
        "    generator = storage.get_generator(batch_size)\n",
        "    for batch in generator:\n",
        "      b_obs, b_action, b_log_prob, b_value, b_returns, b_advantage = batch\n",
        "\n",
        "      # Get current policy outputs\n",
        "      new_dist, new_value = policy(b_obs)\n",
        "      new_log_prob = new_dist.log_prob(b_action)\n",
        "\n",
        "      # Clipped policy objective\n",
        "      ratio = torch.exp((new_log_prob - b_log_prob))\n",
        "      surr1 = ratio * b_advantage\n",
        "      surr2 = torch.clamp(ratio, 1.0 - eps, 1.0 + eps) * b_advantage\n",
        "      pi_loss = - torch.min(surr1, surr2).mean()\n",
        "\n",
        "      # Clipped value function objective\n",
        "      value_loss = (b_returns - new_value).pow(2).mean()\n",
        "\n",
        "      # Entropy loss\n",
        "      entropy_loss = new_dist.entropy()\n",
        "\n",
        "      # Backpropagate losses\n",
        "      loss = torch.mul(value_coef, value_loss) + pi_loss - torch.mul(entropy_coef, entropy_loss)\n",
        "      loss.mean().backward()\n",
        "\n",
        "      # Clip gradients\n",
        "      torch.nn.utils.clip_grad_norm_(policy.parameters(), grad_eps)\n",
        "\n",
        "      # Update policy\n",
        "      optimizer.step()\n",
        "      optimizer.zero_grad()\n",
        "\n",
        "  # Update stats\n",
        "  step += num_envs * num_steps\n",
        "  print(f'Step: {step}\\tMean reward: {storage.get_reward()}')\n",
        "\n",
        "print('Completed training!')\n",
        "torch.save(policy.state_dict, 'checkpoint.pt')"
      ],
      "execution_count": null,
      "outputs": [
        {
          "output_type": "stream",
          "name": "stdout",
          "text": [
            "Observation space: Box(0.0, 1.0, (3, 64, 64), float32)\n",
            "Action space: 15\n",
            "Step: 8192\tMean reward: 3.84375\n",
            "Step: 16384\tMean reward: 3.9375\n",
            "Step: 24576\tMean reward: 3.4375\n",
            "Step: 32768\tMean reward: 5.59375\n",
            "Step: 40960\tMean reward: 5.125\n",
            "Step: 49152\tMean reward: 4.34375\n",
            "Step: 57344\tMean reward: 5.125\n",
            "Step: 65536\tMean reward: 5.78125\n",
            "Step: 73728\tMean reward: 7.34375\n",
            "Step: 81920\tMean reward: 6.5\n",
            "Step: 90112\tMean reward: 6.84375\n",
            "Step: 98304\tMean reward: 7.5\n",
            "Step: 106496\tMean reward: 9.625\n",
            "Step: 114688\tMean reward: 9.90625\n",
            "Step: 122880\tMean reward: 9.09375\n",
            "Step: 131072\tMean reward: 8.96875\n",
            "Step: 139264\tMean reward: 9.625\n",
            "Step: 147456\tMean reward: 11.5625\n",
            "Step: 155648\tMean reward: 10.59375\n",
            "Step: 163840\tMean reward: 10.8125\n",
            "Step: 172032\tMean reward: 9.84375\n",
            "Step: 180224\tMean reward: 10.1875\n",
            "Step: 188416\tMean reward: 12.65625\n",
            "Step: 196608\tMean reward: 10.59375\n",
            "Step: 204800\tMean reward: 12.4375\n",
            "Step: 212992\tMean reward: 12.6875\n",
            "Step: 221184\tMean reward: 13.5\n",
            "Step: 229376\tMean reward: 13.28125\n",
            "Step: 237568\tMean reward: 14.8125\n",
            "Step: 245760\tMean reward: 14.25\n",
            "Step: 253952\tMean reward: 14.59375\n",
            "Step: 262144\tMean reward: 14.375\n",
            "Step: 270336\tMean reward: 14.15625\n",
            "Step: 278528\tMean reward: 15.5625\n",
            "Step: 286720\tMean reward: 14.9375\n",
            "Step: 294912\tMean reward: 15.625\n",
            "Step: 303104\tMean reward: 15.6875\n",
            "Step: 311296\tMean reward: 14.5\n",
            "Step: 319488\tMean reward: 16.625\n",
            "Step: 327680\tMean reward: 16.34375\n",
            "Step: 335872\tMean reward: 16.15625\n",
            "Step: 344064\tMean reward: 15.125\n",
            "Step: 352256\tMean reward: 15.59375\n",
            "Step: 360448\tMean reward: 15.6875\n",
            "Step: 368640\tMean reward: 16.1875\n",
            "Step: 376832\tMean reward: 16.34375\n",
            "Step: 385024\tMean reward: 15.40625\n",
            "Step: 393216\tMean reward: 15.0625\n",
            "Step: 401408\tMean reward: 15.40625\n",
            "Step: 409600\tMean reward: 15.625\n",
            "Step: 417792\tMean reward: 16.15625\n",
            "Step: 425984\tMean reward: 17.09375\n",
            "Step: 434176\tMean reward: 18.1875\n",
            "Step: 442368\tMean reward: 18.5\n",
            "Step: 450560\tMean reward: 16.34375\n",
            "Step: 458752\tMean reward: 17.6875\n",
            "Step: 466944\tMean reward: 17.78125\n",
            "Step: 475136\tMean reward: 17.125\n",
            "Step: 483328\tMean reward: 17.375\n",
            "Step: 491520\tMean reward: 19.65625\n",
            "Step: 499712\tMean reward: 17.59375\n",
            "Step: 507904\tMean reward: 18.96875\n",
            "Completed training!\n"
          ]
        }
      ]
    },
    {
      "cell_type": "code",
      "metadata": {
        "colab": {
          "base_uri": "https://localhost:8080/",
          "height": 286
        },
        "id": "zQXZ_vbFyRxt",
        "outputId": "a075d200-96bc-4a83-82fc-bc3aff943fea"
      },
      "source": [
        "import matplotlib.pyplot as plt\n",
        "import numpy as np\n",
        "pic = np.moveaxis(np.array(batch[0][0,:,:,:].cpu()), 0, 2)\n",
        "plt.imshow(pic)"
      ],
      "execution_count": null,
      "outputs": [
        {
          "output_type": "execute_result",
          "data": {
            "text/plain": [
              "<matplotlib.image.AxesImage at 0x7f06e80fc190>"
            ]
          },
          "metadata": {},
          "execution_count": 14
        },
        {
          "output_type": "display_data",
          "data": {
            "image/png": "[encoded data removed]",
            "text/plain": [
              "<Figure size 432x288 with 1 Axes>"
            ]
          },
          "metadata": {
            "needs_background": "light"
          }
        }
      ]
    },
    {
      "cell_type": "markdown",
      "metadata": {
        "id": "RAZrWuVGLTu-"
      },
      "source": [
        "Below cell can be used for policy evaluation and saves an episode to mp4 for you to view."
      ]
    },
    {
      "cell_type": "code",
      "metadata": {
        "colab": {
          "base_uri": "https://localhost:8080/"
        },
        "id": "2zecOCkd7Jzt",
        "outputId": "81f7301a-35f3-452d-a494-4060dd0a492c"
      },
      "source": [
        "import imageio\n",
        "\n",
        "# Make evaluation environment\n",
        "eval_env = make_env(num_envs, start_level=num_levels, num_levels=num_levels, env_name= envname)\n",
        "obs = eval_env.reset()\n",
        "\n",
        "frames = []\n",
        "total_reward = []\n",
        "\n",
        "# Evaluate policy\n",
        "policy.eval()\n",
        "for _ in range(512):\n",
        "\n",
        "  # Use policy\n",
        "  action, log_prob, value = policy.act(obs)\n",
        "\n",
        "  # Take step in environment\n",
        "  obs, reward, done, info = eval_env.step(action)\n",
        "  total_reward.append(torch.Tensor(reward))\n",
        "\n",
        "  # Render environment and store\n",
        "  frame = (torch.Tensor(eval_env.render(mode='rgb_array'))*255.).byte()\n",
        "  frames.append(frame)\n",
        "\n",
        "# Calculate average return\n",
        "total_reward = torch.stack(total_reward).sum(0).mean(0)\n",
        "print('Average return:', total_reward)\n",
        "\n",
        "# Save frames as video\n",
        "frames = torch.stack(frames)\n",
        "imageio.mimsave('vid.mp4', frames, fps=25)"
      ],
      "execution_count": 16,
      "outputs": [
        {
          "output_type": "stream",
          "name": "stdout",
          "text": [
            "Average return: tensor(15.6714)\n"
          ]
        }
      ]
    },
    {
      "cell_type": "code",
      "metadata": {
        "id": "x0-jEZ0z25v8",
        "colab": {
          "base_uri": "https://localhost:8080/"
        },
        "outputId": "55ea083e-3f6d-4bb5-8727-0253cab2d5f1"
      },
      "source": [
        "reward"
      ],
      "execution_count": 19,
      "outputs": [
        {
          "output_type": "execute_result",
          "data": {
            "text/plain": [
              "array([0., 0., 0., 0., 0., 0., 0., 0., 0., 0., 0., 0., 0., 0., 0., 0., 0.,\n",
              "       0., 0., 0., 0., 0., 0., 0., 0., 0., 0., 0., 0., 0., 0., 0.],\n",
              "      dtype=float32)"
            ]
          },
          "metadata": {},
          "execution_count": 19
        }
      ]
    }
  ]
}