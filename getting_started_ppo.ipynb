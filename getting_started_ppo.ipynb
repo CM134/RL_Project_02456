{
 "cells": [
  {
   "cell_type": "markdown",
   "metadata": {
    "colab_type": "text",
    "id": "view-in-github"
   },
   "source": [
    "<a href=\"https://colab.research.google.com/github/CM134/RL_Project_02456/blob/chris/getting_started_ppo.ipynb\" target=\"_parent\"><img src=\"https://colab.research.google.com/assets/colab-badge.svg\" alt=\"Open In Colab\"/></a>"
   ]
  },
  {
   "cell_type": "markdown",
   "metadata": {
    "id": "K1_WKdcrI6w3"
   },
   "source": [
    "# Getting started with PPO and ProcGen"
   ]
  },
  {
   "cell_type": "markdown",
   "metadata": {
    "id": "z7LP1JU3I-d4"
   },
   "source": [
    "Here's a bit of code that should help you get started on your projects.\n",
    "\n",
    "The cell below installs `procgen` and downloads a small `utils.py` script that contains some utility functions. You may want to inspect the file for more details."
   ]
  },
  {
   "cell_type": "code",
   "execution_count": 1,
   "metadata": {
    "colab": {
     "base_uri": "https://localhost:8080/",
     "height": 1000
    },
    "id": "KdpZ4lmFHtD8",
    "outputId": "944e2d75-d9eb-47fa-bfe1-0ee34c083dbb"
   },
   "outputs": [],
   "source": [
    "#!pip install procgen\n",
    "# !wget https://raw.githubusercontent.com/nicklashansen/ppo-procgen-utils/main/utils.py"
   ]
  },
  {
   "cell_type": "markdown",
   "metadata": {
    "id": "Bn2rkllGJPtZ"
   },
   "source": [
    "Hyperparameters. These values should be a good starting point. You can modify them later once you have a working implementation."
   ]
  },
  {
   "cell_type": "code",
   "execution_count": 1,
   "metadata": {
    "id": "oFp3f98xyRxq"
   },
   "outputs": [],
   "source": [
    "# Hyperparameters\n",
    "total_steps = 1e6\n",
    "num_envs = 32\n",
    "num_levels = 10\n",
    "num_steps = 256\n",
    "num_epochs = 3\n",
    "batch_size = 512\n",
    "eps = .2\n",
    "grad_eps = .5\n",
    "value_coef = .5\n",
    "entropy_coef = .01\n",
    "\n",
    "feature_dim = 256\n",
    "envname = 'starpilot'"
   ]
  },
  {
   "cell_type": "markdown",
   "metadata": {
    "id": "JxRWy_T9JY4M"
   },
   "source": [
    "Network definitions. We have defined a policy network for you in advance. It uses the popular `NatureDQN` encoder architecture (see below), while policy and value functions are linear projections from the encodings. There is plenty of opportunity to experiment with architectures, so feel free to do that! Perhaps implement the `Impala` encoder from [this paper](https://arxiv.org/pdf/1802.01561.pdf) (perhaps minus the LSTM)."
   ]
  },
  {
   "cell_type": "code",
   "execution_count": 2,
   "metadata": {
    "id": "yTBV9xpKpEFa"
   },
   "outputs": [],
   "source": [
    "import torch\n",
    "import torch.nn as nn\n",
    "import torch.nn.functional as F\n",
    "from utils import make_env, Storage, orthogonal_init\n",
    "\n",
    "\n",
    "class Flatten(nn.Module):\n",
    "    def forward(self, x):\n",
    "        return x.view(x.size(0), -1)\n",
    "\n",
    "\n",
    "class Encoder(nn.Module):\n",
    "  def __init__(self, in_channels, feature_dim):\n",
    "    super().__init__()\n",
    "    self.layers = nn.Sequential(\n",
    "        nn.Conv2d(in_channels=in_channels, out_channels=32, kernel_size=8, stride=4), nn.ReLU(),\n",
    "        nn.Conv2d(in_channels=32, out_channels=64, kernel_size=4, stride=2), nn.ReLU(),\n",
    "        nn.Conv2d(in_channels=64, out_channels=64, kernel_size=3, stride=1), nn.ReLU(),\n",
    "        Flatten(),\n",
    "        nn.Linear(in_features=1024, out_features=feature_dim), nn.ReLU()\n",
    "    )\n",
    "    self.apply(orthogonal_init)\n",
    "\n",
    "  def forward(self, x):\n",
    "    return self.layers(x)\n",
    "\n",
    "\n",
    "class Policy(nn.Module):\n",
    "  def __init__(self, encoder, feature_dim, num_actions):\n",
    "    super().__init__()\n",
    "    self.encoder = encoder\n",
    "    self.policy = orthogonal_init(nn.Linear(feature_dim, num_actions), gain=.01)\n",
    "    self.value = orthogonal_init(nn.Linear(feature_dim, 1), gain=1.)\n",
    "\n",
    "  def act(self, x):\n",
    "    with torch.no_grad():\n",
    "      x = x.cuda().contiguous()\n",
    "      x = x.contiguous()\n",
    "      dist, value = self.forward(x)\n",
    "      action = dist.sample()\n",
    "      log_prob = dist.log_prob(action)\n",
    "    \n",
    "    return action.cpu(), log_prob.cpu(), value.cpu()\n",
    "\n",
    "  def forward(self, x):\n",
    "    x = self.encoder(x)\n",
    "    logits = self.policy(x)\n",
    "    value = self.value(x).squeeze(1)\n",
    "    dist = torch.distributions.Categorical(logits=logits)\n",
    "\n",
    "    return dist, value"
   ]
  },
  {
   "cell_type": "code",
   "execution_count": 3,
   "metadata": {
    "colab": {
     "base_uri": "https://localhost:8080/"
    },
    "id": "gsU-XW9aZ_EP",
    "outputId": "4b3ecd3d-3bb7-46d8-9f49-b864314ea2f0"
   },
   "outputs": [
    {
     "name": "stdout",
     "output_type": "stream",
     "text": [
      "seq\n"
     ]
    }
   ],
   "source": [
    "module = nn.Sequential(nn.Linear(3,5), nn.ReLU())\n",
    "if isinstance(module, nn.Linear) or isinstance(module, nn.Conv2d):\n",
    "  nn.init.orthogonal_(module.weight.data, gain)\n",
    "  nn.init.constant_(module.bias.data, 0)\n",
    "  print('true')\n",
    "elif isinstance(module, nn.Sequential):\n",
    "  print('seq')\n",
    "\n",
    "else:\n",
    "  print('no init')"
   ]
  },
  {
   "cell_type": "code",
   "execution_count": 4,
   "metadata": {
    "colab": {
     "base_uri": "https://localhost:8080/",
     "height": 453
    },
    "id": "Y-GCXwFfyRxs",
    "outputId": "4382f73c-8d41-4010-fc93-e7a3d0426bf5"
   },
   "outputs": [
    {
     "name": "stdout",
     "output_type": "stream",
     "text": [
      "Observation space: Box([[[0. 0. 0. ... 0. 0. 0.]\n",
      "  [0. 0. 0. ... 0. 0. 0.]\n",
      "  [0. 0. 0. ... 0. 0. 0.]\n",
      "  ...\n",
      "  [0. 0. 0. ... 0. 0. 0.]\n",
      "  [0. 0. 0. ... 0. 0. 0.]\n",
      "  [0. 0. 0. ... 0. 0. 0.]]\n",
      "\n",
      " [[0. 0. 0. ... 0. 0. 0.]\n",
      "  [0. 0. 0. ... 0. 0. 0.]\n",
      "  [0. 0. 0. ... 0. 0. 0.]\n",
      "  ...\n",
      "  [0. 0. 0. ... 0. 0. 0.]\n",
      "  [0. 0. 0. ... 0. 0. 0.]\n",
      "  [0. 0. 0. ... 0. 0. 0.]]\n",
      "\n",
      " [[0. 0. 0. ... 0. 0. 0.]\n",
      "  [0. 0. 0. ... 0. 0. 0.]\n",
      "  [0. 0. 0. ... 0. 0. 0.]\n",
      "  ...\n",
      "  [0. 0. 0. ... 0. 0. 0.]\n",
      "  [0. 0. 0. ... 0. 0. 0.]\n",
      "  [0. 0. 0. ... 0. 0. 0.]]], [[[1. 1. 1. ... 1. 1. 1.]\n",
      "  [1. 1. 1. ... 1. 1. 1.]\n",
      "  [1. 1. 1. ... 1. 1. 1.]\n",
      "  ...\n",
      "  [1. 1. 1. ... 1. 1. 1.]\n",
      "  [1. 1. 1. ... 1. 1. 1.]\n",
      "  [1. 1. 1. ... 1. 1. 1.]]\n",
      "\n",
      " [[1. 1. 1. ... 1. 1. 1.]\n",
      "  [1. 1. 1. ... 1. 1. 1.]\n",
      "  [1. 1. 1. ... 1. 1. 1.]\n",
      "  ...\n",
      "  [1. 1. 1. ... 1. 1. 1.]\n",
      "  [1. 1. 1. ... 1. 1. 1.]\n",
      "  [1. 1. 1. ... 1. 1. 1.]]\n",
      "\n",
      " [[1. 1. 1. ... 1. 1. 1.]\n",
      "  [1. 1. 1. ... 1. 1. 1.]\n",
      "  [1. 1. 1. ... 1. 1. 1.]\n",
      "  ...\n",
      "  [1. 1. 1. ... 1. 1. 1.]\n",
      "  [1. 1. 1. ... 1. 1. 1.]\n",
      "  [1. 1. 1. ... 1. 1. 1.]]], (3, 64, 64), float32)\n",
      "Action space: 15\n",
      "Step: 8192\tMean reward: 3.71875\n",
      "Step: 16384\tMean reward: 4.15625\n",
      "Step: 24576\tMean reward: 4.6875\n",
      "Step: 32768\tMean reward: 4.625\n",
      "Step: 40960\tMean reward: 4.125\n",
      "Step: 49152\tMean reward: 3.03125\n",
      "Step: 57344\tMean reward: 5.25\n",
      "Step: 65536\tMean reward: 5.21875\n",
      "Step: 73728\tMean reward: 6.125\n",
      "Step: 81920\tMean reward: 3.8125\n",
      "Step: 90112\tMean reward: 5.5625\n",
      "Step: 98304\tMean reward: 5.21875\n",
      "Step: 106496\tMean reward: 6.53125\n",
      "Step: 114688\tMean reward: 7.03125\n",
      "Step: 122880\tMean reward: 8.3125\n",
      "Step: 131072\tMean reward: 8.28125\n",
      "Step: 139264\tMean reward: 9.59375\n",
      "Step: 147456\tMean reward: 12.03125\n",
      "Step: 155648\tMean reward: 11.125\n",
      "Step: 163840\tMean reward: 10.25\n",
      "Step: 172032\tMean reward: 10.15625\n",
      "Step: 180224\tMean reward: 10.75\n",
      "Step: 188416\tMean reward: 11.53125\n",
      "Step: 196608\tMean reward: 11.28125\n",
      "Step: 204800\tMean reward: 13.53125\n",
      "Step: 212992\tMean reward: 11.6875\n",
      "Step: 221184\tMean reward: 13.09375\n",
      "Step: 229376\tMean reward: 12.90625\n",
      "Step: 237568\tMean reward: 14.625\n",
      "Step: 245760\tMean reward: 13.5\n",
      "Step: 253952\tMean reward: 14.34375\n",
      "Step: 262144\tMean reward: 13.28125\n",
      "Step: 270336\tMean reward: 14.4375\n",
      "Step: 278528\tMean reward: 15.5\n",
      "Step: 286720\tMean reward: 13.375\n",
      "Step: 294912\tMean reward: 14.71875\n",
      "Step: 303104\tMean reward: 14.96875\n",
      "Step: 311296\tMean reward: 15.40625\n",
      "Step: 319488\tMean reward: 14.3125\n",
      "Step: 327680\tMean reward: 16.21875\n",
      "Step: 335872\tMean reward: 15.1875\n",
      "Step: 344064\tMean reward: 14.625\n",
      "Step: 352256\tMean reward: 14.625\n",
      "Step: 360448\tMean reward: 15.0625\n",
      "Step: 368640\tMean reward: 14.46875\n",
      "Step: 376832\tMean reward: 15.90625\n",
      "Step: 385024\tMean reward: 16.15625\n",
      "Step: 393216\tMean reward: 15.375\n",
      "Step: 401408\tMean reward: 16.0\n",
      "Step: 409600\tMean reward: 16.09375\n",
      "Step: 417792\tMean reward: 16.90625\n",
      "Step: 425984\tMean reward: 16.21875\n",
      "Step: 434176\tMean reward: 16.75\n",
      "Step: 442368\tMean reward: 16.09375\n",
      "Step: 450560\tMean reward: 16.78125\n",
      "Step: 458752\tMean reward: 15.75\n",
      "Step: 466944\tMean reward: 16.875\n",
      "Step: 475136\tMean reward: 16.5625\n",
      "Step: 483328\tMean reward: 17.3125\n",
      "Step: 491520\tMean reward: 15.78125\n",
      "Step: 499712\tMean reward: 16.78125\n",
      "Step: 507904\tMean reward: 17.09375\n",
      "Step: 516096\tMean reward: 16.3125\n",
      "Step: 524288\tMean reward: 16.84375\n",
      "Step: 532480\tMean reward: 16.15625\n",
      "Step: 540672\tMean reward: 16.53125\n",
      "Step: 548864\tMean reward: 17.0625\n",
      "Step: 557056\tMean reward: 16.40625\n",
      "Step: 565248\tMean reward: 17.40625\n",
      "Step: 573440\tMean reward: 16.59375\n",
      "Step: 581632\tMean reward: 14.71875\n",
      "Step: 589824\tMean reward: 17.0625\n",
      "Step: 598016\tMean reward: 15.5\n",
      "Step: 606208\tMean reward: 16.8125\n",
      "Step: 614400\tMean reward: 15.65625\n",
      "Step: 622592\tMean reward: 17.84375\n",
      "Step: 630784\tMean reward: 18.53125\n",
      "Step: 638976\tMean reward: 17.25\n",
      "Step: 647168\tMean reward: 15.59375\n",
      "Step: 655360\tMean reward: 16.40625\n",
      "Step: 663552\tMean reward: 17.28125\n",
      "Step: 671744\tMean reward: 16.5\n",
      "Step: 679936\tMean reward: 15.90625\n",
      "Step: 688128\tMean reward: 16.90625\n",
      "Step: 696320\tMean reward: 16.71875\n",
      "Step: 704512\tMean reward: 16.03125\n",
      "Step: 712704\tMean reward: 17.40625\n",
      "Step: 720896\tMean reward: 16.5\n",
      "Step: 729088\tMean reward: 15.78125\n",
      "Step: 737280\tMean reward: 15.28125\n",
      "Step: 745472\tMean reward: 16.78125\n",
      "Step: 753664\tMean reward: 16.21875\n",
      "Step: 761856\tMean reward: 17.71875\n",
      "Step: 770048\tMean reward: 16.0625\n",
      "Step: 778240\tMean reward: 15.75\n",
      "Step: 786432\tMean reward: 17.0\n",
      "Step: 794624\tMean reward: 18.03125\n",
      "Step: 802816\tMean reward: 15.84375\n",
      "Step: 811008\tMean reward: 17.84375\n",
      "Step: 819200\tMean reward: 15.4375\n",
      "Step: 827392\tMean reward: 17.375\n",
      "Step: 835584\tMean reward: 16.15625\n",
      "Step: 843776\tMean reward: 17.25\n",
      "Step: 851968\tMean reward: 17.65625\n",
      "Step: 860160\tMean reward: 17.40625\n",
      "Step: 868352\tMean reward: 17.15625\n",
      "Step: 876544\tMean reward: 17.71875\n",
      "Step: 884736\tMean reward: 16.75\n",
      "Step: 892928\tMean reward: 17.4375\n",
      "Step: 901120\tMean reward: 16.40625\n",
      "Step: 909312\tMean reward: 16.625\n",
      "Step: 917504\tMean reward: 18.875\n",
      "Step: 925696\tMean reward: 17.25\n",
      "Step: 933888\tMean reward: 17.65625\n",
      "Step: 942080\tMean reward: 17.5625\n",
      "Step: 950272\tMean reward: 16.25\n",
      "Step: 958464\tMean reward: 17.1875\n",
      "Step: 966656\tMean reward: 19.0\n",
      "Step: 974848\tMean reward: 18.40625\n",
      "Step: 983040\tMean reward: 17.375\n",
      "Step: 991232\tMean reward: 16.78125\n",
      "Step: 999424\tMean reward: 18.21875\n",
      "Step: 1007616\tMean reward: 17.28125\n",
      "Completed training!\n"
     ]
    }
   ],
   "source": [
    "# Define environment\n",
    "# check the utils.py file for info on arguments\n",
    "env = make_env(num_envs, num_levels=num_levels, env_name = envname)\n",
    "print('Observation space:', env.observation_space)\n",
    "print('Action space:', env.action_space.n)\n",
    "\n",
    "\n",
    "encoder_in = env.observation_space.shape[0]\n",
    "num_actions = env.action_space.n\n",
    "\n",
    "\n",
    "# Define network\n",
    "encoder = Encoder(encoder_in,feature_dim)\n",
    "policy = Policy(encoder,feature_dim,num_actions)\n",
    "policy.cuda()\n",
    "\n",
    "# Define optimizer\n",
    "# these are reasonable values but probably not optimal\n",
    "optimizer = torch.optim.Adam(policy.parameters(), lr=5e-4, eps=1e-5)\n",
    "\n",
    "# Define temporary storage\n",
    "# we use this to collect transitions during each iteration\n",
    "storage = Storage(\n",
    "    env.observation_space.shape,\n",
    "    num_steps,\n",
    "    num_envs\n",
    ")\n",
    "\n",
    "# Run training\n",
    "obs = env.reset()\n",
    "step = 0\n",
    "while step < total_steps:\n",
    "\n",
    "  # Use policy to collect data for num_steps steps\n",
    "  policy.eval()\n",
    "  for _ in range(num_steps):\n",
    "    \n",
    "\n",
    "    # Use policy\n",
    "    action, log_prob, value = policy.act(obs)\n",
    "    \n",
    "    # Take step in environment\n",
    "    next_obs, reward, done, info = env.step(action)\n",
    "#     for i in range(len(done)):\n",
    "#       if done[i] == True:\n",
    "#         reward[i] = reward[i] - 5\n",
    "        #print('step:',step, 'i:', i)\n",
    "  \n",
    "    # Store data\n",
    "    storage.store(obs, action, reward, done, info, log_prob, value)\n",
    "    \n",
    "    # Update current observation\n",
    "    obs = next_obs\n",
    "\n",
    "  # Add the last observation to collected data\n",
    "  _, _, value = policy.act(obs)\n",
    "  storage.store_last(obs, value)\n",
    "\n",
    "  # Compute return and advantage\n",
    "  storage.compute_return_advantage()\n",
    "\n",
    "  # Optimize policy\n",
    "  policy.train()\n",
    "  for epoch in range(num_epochs):\n",
    "\n",
    "    # Iterate over batches of transitions\n",
    "    generator = storage.get_generator(batch_size)\n",
    "    for batch in generator:\n",
    "      b_obs, b_action, b_log_prob, b_value, b_returns, b_advantage = batch\n",
    "\n",
    "      # Get current policy outputs\n",
    "      new_dist, new_value = policy(b_obs)\n",
    "      new_log_prob = new_dist.log_prob(b_action)\n",
    "\n",
    "      # Clipped policy objective\n",
    "      ratio = torch.exp((new_log_prob - b_log_prob))\n",
    "      surr1 = ratio * b_advantage\n",
    "      surr2 = torch.clamp(ratio, 1.0 - eps, 1.0 + eps) * b_advantage\n",
    "      pi_loss = - torch.min(surr1, surr2).mean()\n",
    "\n",
    "      # Clipped value function objective\n",
    "      value_loss = (b_returns - new_value).pow(2).mean()\n",
    "\n",
    "      # Entropy loss\n",
    "      entropy_loss = new_dist.entropy()\n",
    "\n",
    "      # Backpropagate losses\n",
    "      loss = torch.mul(value_coef, value_loss) + pi_loss - torch.mul(entropy_coef, entropy_loss)\n",
    "      loss.mean().backward()\n",
    "\n",
    "      # Clip gradients\n",
    "      torch.nn.utils.clip_grad_norm_(policy.parameters(), grad_eps)\n",
    "\n",
    "      # Update policy\n",
    "      optimizer.step()\n",
    "      optimizer.zero_grad()\n",
    "\n",
    "  # Update stats\n",
    "  step += num_envs * num_steps\n",
    "  print(f'Step: {step}\\tMean reward: {storage.get_reward()}')\n",
    "\n",
    "print('Completed training!')\n",
    "torch.save(policy.state_dict(), 'checkpoint.pt')"
   ]
  },
  {
   "cell_type": "code",
   "execution_count": 5,
   "metadata": {
    "colab": {
     "base_uri": "https://localhost:8080/"
    },
    "id": "-sy2hdmQvDHr",
    "outputId": "f6546a66-8af2-4e94-c3d4-fc897410fa2d"
   },
   "outputs": [
    {
     "data": {
      "text/plain": [
       "Policy(\n",
       "  (encoder): Encoder(\n",
       "    (layers): Sequential(\n",
       "      (0): Conv2d(3, 32, kernel_size=(8, 8), stride=(4, 4))\n",
       "      (1): ReLU()\n",
       "      (2): Conv2d(32, 64, kernel_size=(4, 4), stride=(2, 2))\n",
       "      (3): ReLU()\n",
       "      (4): Conv2d(64, 64, kernel_size=(3, 3), stride=(1, 1))\n",
       "      (5): ReLU()\n",
       "      (6): Flatten()\n",
       "      (7): Linear(in_features=1024, out_features=256, bias=True)\n",
       "      (8): ReLU()\n",
       "    )\n",
       "  )\n",
       "  (policy): Linear(in_features=256, out_features=15, bias=True)\n",
       "  (value): Linear(in_features=256, out_features=1, bias=True)\n",
       ")"
      ]
     },
     "execution_count": 5,
     "metadata": {},
     "output_type": "execute_result"
    }
   ],
   "source": [
    "env = make_env(num_envs, num_levels=num_levels, env_name = envname)\n",
    "\n",
    "encoder_in = env.observation_space.shape[0]\n",
    "num_actions = env.action_space.n\n",
    "\n",
    "\n",
    "encoder_load = Encoder(encoder_in,feature_dim)\n",
    "policy_load = Policy(encoder_load,feature_dim,num_actions)\n",
    "policy_load.load_state_dict(torch.load('checkpoint.pt'))\n",
    "policy_load.eval()"
   ]
  },
  {
   "cell_type": "code",
   "execution_count": 6,
   "metadata": {
    "colab": {
     "base_uri": "https://localhost:8080/",
     "height": 286
    },
    "id": "zQXZ_vbFyRxt",
    "outputId": "5412b2b2-153b-4e25-fa75-9bd3ba5662ba"
   },
   "outputs": [],
   "source": [
    "# import matplotlib.pyplot as plt\n",
    "# import numpy as np\n",
    "# pic = np.moveaxis(np.array(batch[0][0,:,:,:].cpu()), 0, 2)\n",
    "# plt.imshow(pic)"
   ]
  },
  {
   "cell_type": "markdown",
   "metadata": {
    "id": "RAZrWuVGLTu-"
   },
   "source": [
    "Below cell can be used for policy evaluation and saves an episode to mp4 for you to view."
   ]
  },
  {
   "cell_type": "code",
   "execution_count": null,
   "metadata": {
    "colab": {
     "base_uri": "https://localhost:8080/"
    },
    "id": "2zecOCkd7Jzt",
    "outputId": "e69c37d2-89bd-477c-d037-fb02a4e24153"
   },
   "outputs": [],
   "source": [
    "import imageio\n",
    "\n",
    "# Make evaluation environment\n",
    "eval_env = make_env(num_envs, start_level=num_levels, num_levels=num_levels, env_name= envname)\n",
    "obs = eval_env.reset()\n",
    "\n",
    "frames = []\n",
    "total_reward = []\n",
    "\n",
    "# Evaluate policy\n",
    "policy.eval()\n",
    "for _ in range(512):\n",
    "\n",
    "  # Use policy\n",
    "  action, log_prob, value = policy.act(obs)\n",
    "\n",
    "  # Take step in environment\n",
    "  obs, reward, done, info = eval_env.step(action)\n",
    "  total_reward.append(torch.Tensor(reward))\n",
    "\n",
    "  # Render environment and store\n",
    "  frame = (torch.Tensor(eval_env.render(mode='rgb_array'))*255.).byte()\n",
    "  frames.append(frame)\n",
    "\n",
    "# Calculate average return\n",
    "total_reward = torch.stack(total_reward).sum(0).mean(0)\n",
    "print('Average return:', total_reward)\n",
    "\n",
    "# Save frames as video\n",
    "frames = torch.stack(frames)\n",
    "imageio.mimsave('vid.mp4', frames, fps=25)"
   ]
  },
  {
   "cell_type": "code",
   "execution_count": null,
   "metadata": {
    "colab": {
     "base_uri": "https://localhost:8080/"
    },
    "id": "x0-jEZ0z25v8",
    "outputId": "55ea083e-3f6d-4bb5-8727-0253cab2d5f1"
   },
   "outputs": [],
   "source": []
  }
 ],
 "metadata": {
  "accelerator": "GPU",
  "colab": {
   "collapsed_sections": [],
   "include_colab_link": true,
   "name": "getting_started_ppo.ipynb",
   "provenance": []
  },
  "kernelspec": {
   "display_name": "Python 3",
   "language": "python",
   "name": "python3"
  },
  "language_info": {
   "codemirror_mode": {
    "name": "ipython",
    "version": 3
   },
   "file_extension": ".py",
   "mimetype": "text/x-python",
   "name": "python",
   "nbconvert_exporter": "python",
   "pygments_lexer": "ipython3",
   "version": "3.8.12"
  }
 },
 "nbformat": 4,
 "nbformat_minor": 1
}
